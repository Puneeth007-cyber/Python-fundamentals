{
 "cells": [
  {
   "cell_type": "code",
   "execution_count": null,
   "metadata": {},
   "outputs": [],
   "source": [
    "introduction to loping statements"
   ]
  },
  {
   "cell_type": "code",
   "execution_count": 1,
   "metadata": {},
   "outputs": [],
   "source": [
    "students = ['vijay', 'ghaleb', 'vimal', 'suresh', 'keerthi', 'shameen']"
   ]
  },
  {
   "cell_type": "code",
   "execution_count": 2,
   "metadata": {},
   "outputs": [
    {
     "name": "stdout",
     "output_type": "stream",
     "text": [
      "['vijay', 'ghaleb', 'vimal', 'suresh', 'keerthi', 'shameen']\n"
     ]
    }
   ],
   "source": [
    "print(students)"
   ]
  },
  {
   "cell_type": "code",
   "execution_count": 3,
   "metadata": {},
   "outputs": [
    {
     "data": {
      "text/plain": [
       "list"
      ]
     },
     "execution_count": 3,
     "metadata": {},
     "output_type": "execute_result"
    }
   ],
   "source": [
    "type(students)"
   ]
  },
  {
   "cell_type": "code",
   "execution_count": null,
   "metadata": {},
   "outputs": [],
   "source": []
  },
  {
   "cell_type": "code",
   "execution_count": null,
   "metadata": {},
   "outputs": [],
   "source": [
    "req: i want to appreciate eacch and every student in the above list for submitting their work duly."
   ]
  },
  {
   "cell_type": "code",
   "execution_count": 5,
   "metadata": {},
   "outputs": [
    {
     "name": "stdout",
     "output_type": "stream",
     "text": [
      "keep up the good work,Vijay\n"
     ]
    }
   ],
   "source": [
    "print(f'keep up the good work,{students[0].title()}')"
   ]
  },
  {
   "cell_type": "code",
   "execution_count": 7,
   "metadata": {},
   "outputs": [
    {
     "name": "stdout",
     "output_type": "stream",
     "text": [
      "keep up the good work,Ghaleb\n"
     ]
    }
   ],
   "source": [
    "print(f'keep up the good work,{students[1].title()}')"
   ]
  },
  {
   "cell_type": "code",
   "execution_count": null,
   "metadata": {},
   "outputs": [],
   "source": []
  },
  {
   "cell_type": "code",
   "execution_count": null,
   "metadata": {},
   "outputs": [],
   "source": [
    "#general syntax for a lopp"
   ]
  },
  {
   "cell_type": "code",
   "execution_count": null,
   "metadata": {},
   "outputs": [],
   "source": [
    "for tempvariable in main variable:\n",
    "    print(tempvariable)  #this gap is called as an indentation...!"
   ]
  },
  {
   "cell_type": "code",
   "execution_count": null,
   "metadata": {},
   "outputs": [],
   "source": [
    "#implementation....!"
   ]
  },
  {
   "cell_type": "code",
   "execution_count": 8,
   "metadata": {},
   "outputs": [
    {
     "name": "stdout",
     "output_type": "stream",
     "text": [
      "keep up th egood work,Vijay\n",
      "keep up th egood work,Ghaleb\n",
      "keep up th egood work,Vimal\n",
      "keep up th egood work,Suresh\n",
      "keep up th egood work,Keerthi\n",
      "keep up th egood work,Shameen\n"
     ]
    }
   ],
   "source": [
    "for x in students:\n",
    "    print(f'keep up th egood work,{x.title()}')\n",
    "    "
   ]
  },
  {
   "cell_type": "code",
   "execution_count": null,
   "metadata": {},
   "outputs": [],
   "source": []
  },
  {
   "cell_type": "code",
   "execution_count": 9,
   "metadata": {},
   "outputs": [
    {
     "name": "stdout",
     "output_type": "stream",
     "text": [
      "vijay\n",
      "ghaleb\n",
      "vimal\n",
      "suresh\n",
      "keerthi\n",
      "shameen\n"
     ]
    }
   ],
   "source": [
    "for a in students:  #this whole process is called as iterating through the elements\n",
    "    print(a)#indentation"
   ]
  },
  {
   "cell_type": "code",
   "execution_count": null,
   "metadata": {},
   "outputs": [],
   "source": []
  },
  {
   "cell_type": "code",
   "execution_count": 11,
   "metadata": {},
   "outputs": [
    {
     "name": "stdout",
     "output_type": "stream",
     "text": [
      "keep up the good work,Vijay\n",
      "i am looking forward to receive all your practice files,Vijay\n",
      "keep up the good work,Ghaleb\n",
      "i am looking forward to receive all your practice files,Ghaleb\n",
      "keep up the good work,Vimal\n",
      "i am looking forward to receive all your practice files,Vimal\n",
      "keep up the good work,Suresh\n",
      "i am looking forward to receive all your practice files,Suresh\n",
      "keep up the good work,Keerthi\n",
      "i am looking forward to receive all your practice files,Keerthi\n",
      "keep up the good work,Shameen\n",
      "i am looking forward to receive all your practice files,Shameen\n"
     ]
    }
   ],
   "source": [
    "for x in students:\n",
    "    print(f'keep up the good work,{x.title()}')\n",
    "    print(f'i am looking forward to receive all your practice files,{x.title()}')"
   ]
  },
  {
   "cell_type": "code",
   "execution_count": null,
   "metadata": {},
   "outputs": [],
   "source": []
  },
  {
   "cell_type": "code",
   "execution_count": 12,
   "metadata": {},
   "outputs": [
    {
     "name": "stdout",
     "output_type": "stream",
     "text": [
      "keep up the good work,Vijay\n",
      "i am looking forward to receive all your practice files,Vijay.\n",
      "\n",
      "keep up the good work,Ghaleb\n",
      "i am looking forward to receive all your practice files,Ghaleb.\n",
      "\n",
      "keep up the good work,Vimal\n",
      "i am looking forward to receive all your practice files,Vimal.\n",
      "\n",
      "keep up the good work,Suresh\n",
      "i am looking forward to receive all your practice files,Suresh.\n",
      "\n",
      "keep up the good work,Keerthi\n",
      "i am looking forward to receive all your practice files,Keerthi.\n",
      "\n",
      "keep up the good work,Shameen\n",
      "i am looking forward to receive all your practice files,Shameen.\n",
      "\n"
     ]
    }
   ],
   "source": [
    "for x in students:\n",
    "    print(f'keep up the good work,{x.title()}')\n",
    "    print(f'i am looking forward to receive all your practice files,{x.title()}.\\n')"
   ]
  },
  {
   "cell_type": "code",
   "execution_count": null,
   "metadata": {},
   "outputs": [],
   "source": []
  },
  {
   "cell_type": "code",
   "execution_count": null,
   "metadata": {},
   "outputs": [],
   "source": [
    "#in the loop and out of the loop"
   ]
  },
  {
   "cell_type": "code",
   "execution_count": null,
   "metadata": {},
   "outputs": [],
   "source": []
  },
  {
   "cell_type": "code",
   "execution_count": null,
   "metadata": {},
   "outputs": [],
   "source": [
    "req: i want to thank all of you for joining in the class...!"
   ]
  },
  {
   "cell_type": "code",
   "execution_count": null,
   "metadata": {},
   "outputs": [],
   "source": []
  },
  {
   "cell_type": "code",
   "execution_count": 14,
   "metadata": {},
   "outputs": [
    {
     "name": "stdout",
     "output_type": "stream",
     "text": [
      "keep up the good work,Vijay\n",
      "i am looking forward to receive all your practice files,Vijay.\n",
      "\n",
      "keep up the good work,Ghaleb\n",
      "i am looking forward to receive all your practice files,Ghaleb.\n",
      "\n",
      "keep up the good work,Vimal\n",
      "i am looking forward to receive all your practice files,Vimal.\n",
      "\n",
      "keep up the good work,Suresh\n",
      "i am looking forward to receive all your practice files,Suresh.\n",
      "\n",
      "keep up the good work,Keerthi\n",
      "i am looking forward to receive all your practice files,Keerthi.\n",
      "\n",
      "keep up the good work,Shameen\n",
      "i am looking forward to receive all your practice files,Shameen.\n",
      "\n",
      "thanks all of you for joining the session on time.\n"
     ]
    }
   ],
   "source": [
    "for x in students:\n",
    "    print(f'keep up the good work,{x.title()}')\n",
    "    print(f'i am looking forward to receive all your practice files,{x.title()}.\\n')\n",
    "    \n",
    "print('thanks all of you for joining the session on time.')    "
   ]
  },
  {
   "cell_type": "code",
   "execution_count": null,
   "metadata": {},
   "outputs": [],
   "source": []
  },
  {
   "cell_type": "code",
   "execution_count": null,
   "metadata": {},
   "outputs": [],
   "source": [
    "organising the list:"
   ]
  },
  {
   "cell_type": "code",
   "execution_count": 16,
   "metadata": {},
   "outputs": [],
   "source": [
    "cars = ['suzuki','bmw','kia','audi','honda']"
   ]
  },
  {
   "cell_type": "code",
   "execution_count": null,
   "metadata": {},
   "outputs": [],
   "source": []
  },
  {
   "cell_type": "code",
   "execution_count": null,
   "metadata": {},
   "outputs": [],
   "source": [
    "req:i want to know the total count of the cars...?"
   ]
  },
  {
   "cell_type": "code",
   "execution_count": 18,
   "metadata": {},
   "outputs": [
    {
     "data": {
      "text/plain": [
       "5"
      ]
     },
     "execution_count": 18,
     "metadata": {},
     "output_type": "execute_result"
    }
   ],
   "source": [
    "len(cars)  #it will give the total count of the elements in the list...!"
   ]
  },
  {
   "cell_type": "code",
   "execution_count": null,
   "metadata": {},
   "outputs": [],
   "source": []
  }
 ],
 "metadata": {
  "kernelspec": {
   "display_name": "Python 3",
   "language": "python",
   "name": "python3"
  },
  "language_info": {
   "codemirror_mode": {
    "name": "ipython",
    "version": 3
   },
   "file_extension": ".py",
   "mimetype": "text/x-python",
   "name": "python",
   "nbconvert_exporter": "python",
   "pygments_lexer": "ipython3",
   "version": "3.8.5"
  }
 },
 "nbformat": 4,
 "nbformat_minor": 4
}
